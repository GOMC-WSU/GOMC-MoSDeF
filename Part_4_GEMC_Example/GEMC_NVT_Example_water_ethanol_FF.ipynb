{
 "cells": [
  {
   "cell_type": "markdown",
   "id": "optical-evolution",
   "metadata": {},
   "source": [
    "# GOMC Example for the Gibbs Ensemble (GEMC) using MoSDeF [1, 2, 5-10, 13-17]\n",
    "\n",
    "### Note: In this specific example, we will be using the GEMC_NVT ensemble."
   ]
  },
  {
   "cell_type": "markdown",
   "id": "working-singer",
   "metadata": {},
   "source": [
    "## Import the required packages and specify the force field (FF) being used. \n",
    "\n",
    "## Note: For GOMC, the residue names are treated as molecules, so the residue names must be unique for each different molecule. [1, 2, 13-17]\n",
    "\n",
    "## Note: Each residue can be set to a different FF, which is done by setting the residue name to a FF in a dictionary (FF_Dict).  The FF selection can be a FF name (set from foyer FF repositor) or a specified FF xml file. [1, 2, 13-17]\n",
    "\n"
   ]
  },
  {
   "cell_type": "code",
   "execution_count": 11,
   "id": "future-walker",
   "metadata": {
    "scrolled": true
   },
   "outputs": [
    {
     "name": "stderr",
     "output_type": "stream",
     "text": [
      "/Users/brad/Programs/anaconda3/envs/GOMC_MOSDEF/lib/python3.9/site-packages/ipykernel/ipkernel.py:283: DeprecationWarning: `should_run_async` will not call `transform_cell` automatically in the future. Please pass the result to `transformed_cell` argument and any exception that happen during thetransform in `preprocessing_exc_tuple` in IPython 7.17 and above.\n",
      "  and should_run_async(code)\n"
     ]
    },
    {
     "data": {
      "text/plain": [
       "\"import mbuild as mb\\nfrom foyer import Forcefield\\nimport mbuild.formats.charmm_writer as mf_charmm\\nimport mbuild.formats.gomc_conf_writer as gomc_control\\n\\n\\nFF_file_water = '../common/spce.xml'\\nwater = mb.load('O', smiles=True)\\nwater.name = 'H2O'\\n\\nwater.energy_minimize(forcefield=FF_file_water, steps=10**5)\\n\\nFF_file_ethanol = 'oplsaa'\\nethanol = mb.load('CCO', smiles=True)\\nethanol.name = 'ETO'\\nethanol.energy_minimize(forcefield=FF_file_ethanol, steps=10**5)\\n\\nFF_dict = {water.name: FF_file_water, ethanol.name: FF_file_ethanol}\\n\\nresidues_list = [ethanol.name, water.name]\\n\\nfix_bonds_angles_residues = [water.name]\""
      ]
     },
     "execution_count": 11,
     "metadata": {},
     "output_type": "execute_result"
    }
   ],
   "source": [
    "\"\"\"import mbuild as mb\n",
    "from foyer import Forcefield\n",
    "import mbuild.formats.charmm_writer as mf_charmm\n",
    "import mbuild.formats.gomc_conf_writer as gomc_control\n",
    "\n",
    "\n",
    "FF_file_water = '../common/spce.xml'\n",
    "water = mb.load('O', smiles=True)\n",
    "water.name = 'H2O'\n",
    "\n",
    "water.energy_minimize(forcefield=FF_file_water, steps=10**5)\n",
    "\n",
    "FF_file_ethanol = 'oplsaa'\n",
    "ethanol = mb.load('CCO', smiles=True)\n",
    "ethanol.name = 'ETO'\n",
    "ethanol.energy_minimize(forcefield=FF_file_ethanol, steps=10**5)\n",
    "\n",
    "FF_dict = {water.name: FF_file_water, ethanol.name: FF_file_ethanol}\n",
    "\n",
    "residues_list = [ethanol.name, water.name]\n",
    "\n",
    "fix_bonds_angles_residues = [water.name]\"\"\""
   ]
  },
  {
   "cell_type": "markdown",
   "id": "operational-blackjack",
   "metadata": {},
   "source": [
    "## Build the main simulation liquid box (box 0) and the vapor (box 1) for the simulation [1, 2, 13-17]"
   ]
  },
  {
   "cell_type": "code",
   "execution_count": 3,
   "id": "unsigned-inspiration",
   "metadata": {},
   "outputs": [
    {
     "name": "stderr",
     "output_type": "stream",
     "text": [
      "/Users/brad/Programs/anaconda3/envs/GOMC_MOSDEF/lib/python3.9/site-packages/ipykernel/ipkernel.py:283: DeprecationWarning: `should_run_async` will not call `transform_cell` automatically in the future. Please pass the result to `transformed_cell` argument and any exception that happen during thetransform in `preprocessing_exc_tuple` in IPython 7.17 and above.\n",
      "  and should_run_async(code)\n"
     ]
    },
    {
     "ename": "NameError",
     "evalue": "name 'water' is not defined",
     "output_type": "error",
     "traceback": [
      "\u001b[0;31m---------------------------------------------------------------------------\u001b[0m",
      "\u001b[0;31mNameError\u001b[0m                                 Traceback (most recent call last)",
      "\u001b[0;32m<ipython-input-3-731941c75294>\u001b[0m in \u001b[0;36m<module>\u001b[0;34m\u001b[0m\n\u001b[0;32m----> 1\u001b[0;31m water_ethanol_box_liq = mb.fill_box(compound=[water, ethanol],\n\u001b[0m\u001b[1;32m      2\u001b[0m                                     \u001b[0mdensity\u001b[0m\u001b[0;34m=\u001b[0m \u001b[0;36m950\u001b[0m\u001b[0;34m,\u001b[0m\u001b[0;34m\u001b[0m\u001b[0;34m\u001b[0m\u001b[0m\n\u001b[1;32m      3\u001b[0m                                     \u001b[0mcompound_ratio\u001b[0m\u001b[0;34m=\u001b[0m\u001b[0;34m[\u001b[0m\u001b[0;36m0.8\u001b[0m\u001b[0;34m,\u001b[0m \u001b[0;36m0.2\u001b[0m\u001b[0;34m]\u001b[0m \u001b[0;34m,\u001b[0m\u001b[0;34m\u001b[0m\u001b[0;34m\u001b[0m\u001b[0m\n\u001b[1;32m      4\u001b[0m                                     box=[3.0, 3.0, 3.0])\n\u001b[1;32m      5\u001b[0m \u001b[0;34m\u001b[0m\u001b[0m\n",
      "\u001b[0;31mNameError\u001b[0m: name 'water' is not defined"
     ]
    }
   ],
   "source": [
    "water_ethanol_box_liq = mb.fill_box(compound=[water, ethanol],\n",
    "                                    density= 950,\n",
    "                                    compound_ratio=[0.8, 0.2] ,\n",
    "                                    box=[3.0, 3.0, 3.0])\n",
    "\n",
    "water_ethanol_box_vap = mb.fill_box(compound=[water,ethanol],\n",
    "                                    density= 100,\n",
    "                                    compound_ratio=[0.8, 0.2],\n",
    "                                    box=[8, 8, 8])"
   ]
  },
  {
   "cell_type": "markdown",
   "id": "raising-imaging",
   "metadata": {},
   "source": [
    "## Build the Charmm object, which is required to write the FF (.inp), psf, pdb, and GOMC control files [1, 2, 5-10, 13-17]\n",
    "\n",
    "## The reorder_res_in_pdb_psf command reorders the psf and pdb to the order residues variable (i.e., the residues_list in this case) [1, 2, 13-17].  \n",
    "\n",
    "## The fix_res_bonds_angles command fixes the angles and bonds for water in the Charmm FF file.  Note: This is specific to GOMC, as it sets the bond and angle k-values to 999999999999 [1, 2, 5-10, 13-17]."
   ]
  },
  {
   "cell_type": "code",
   "execution_count": 13,
   "id": "passive-bracket",
   "metadata": {},
   "outputs": [
    {
     "name": "stderr",
     "output_type": "stream",
     "text": [
      "/Users/brad/Programs/anaconda3/envs/GOMC_MOSDEF/lib/python3.9/site-packages/ipykernel/ipkernel.py:283: DeprecationWarning: `should_run_async` will not call `transform_cell` automatically in the future. Please pass the result to `transformed_cell` argument and any exception that happen during thetransform in `preprocessing_exc_tuple` in IPython 7.17 and above.\n",
      "  and should_run_async(code)\n"
     ]
    },
    {
     "data": {
      "text/plain": [
       "'charmm = mf_charmm.Charmm(water_ethanol_box_liq,\\n                          \\'GEMC_NVT_water_ethanol_liq\\',\\n                          structure_box_1=water_ethanol_box_vap,\\n                          filename_box_1=\\'GEMC_NVT_water_ethanol_vap\\',\\n                          ff_filename=\"GEMC_NVT_water_ethanol_FF\",\\n                          forcefield_selection=FF_dict,\\n                          residues=residues_list,\\n                          bead_to_atom_name_dict=None,\\n                          fix_residue=None,\\n                          gomc_fix_bonds_angles=fix_bonds_angles_residues,\\n                          reorder_res_in_pdb_psf=True\\n                          )'"
      ]
     },
     "execution_count": 13,
     "metadata": {},
     "output_type": "execute_result"
    }
   ],
   "source": [
    "charmm = mf_charmm.Charmm(water_ethanol_box_liq,\n",
    "                          'GEMC_NVT_water_ethanol_liq',\n",
    "                          structure_box_1=water_ethanol_box_vap,\n",
    "                          filename_box_1='GEMC_NVT_water_ethanol_vap',\n",
    "                          ff_filename=\"GEMC_NVT_water_ethanol_FF\",\n",
    "                          forcefield_selection=FF_dict,\n",
    "                          residues=residues_list,\n",
    "                          bead_to_atom_name_dict=None,\n",
    "                          fix_residue=None,\n",
    "                          gomc_fix_bonds_angles=fix_bonds_angles_residues,\n",
    "                          reorder_res_in_pdb_psf=True\n",
    "                          )"
   ]
  },
  {
   "cell_type": "markdown",
   "id": "sorted-possession",
   "metadata": {},
   "source": [
    "## Write the write the FF (.inp), psf, pdb, and GOMC control files [1, 2, 5-10, 13-17]"
   ]
  },
  {
   "cell_type": "code",
   "execution_count": 17,
   "id": "recovered-gossip",
   "metadata": {},
   "outputs": [
    {
     "name": "stderr",
     "output_type": "stream",
     "text": [
      "/Users/brad/Programs/anaconda3/envs/GOMC_MOSDEF/lib/python3.9/site-packages/ipykernel/ipkernel.py:283: DeprecationWarning: `should_run_async` will not call `transform_cell` automatically in the future. Please pass the result to `transformed_cell` argument and any exception that happen during thetransform in `preprocessing_exc_tuple` in IPython 7.17 and above.\n",
      "  and should_run_async(code)\n"
     ]
    },
    {
     "name": "stdout",
     "output_type": "stream",
     "text": [
      "******************************\n",
      "\n",
      "The charmm force field file writer (the write_inp function) is running\n",
      "******************************\n",
      "\n",
      "The charmm force field file writer (the write_inp function) is running\n",
      "******************************\n",
      "\n",
      "writing the GOMC force field file \n",
      "No urey bradley terms detected, will use angle_style harmonic\n",
      "will use CHARMM_torsions  =  K0 + K1 * (1 + Cos[n1*(t) - (d1)] ) + K2 * (1 + Cos[n2*(t) - (d2)] ) + K3 * (1 + Cos[n3*(t) - (d3)] ) + K4 * (1 + Cos[n4*(t) - (d4)] ) + K5 * (1 + Cos[n5*(t) - (d5)] ) \n",
      "! RB-torsion to CHARMM dihedral conversion error is OK [error <= 10^(-10)]\n",
      "! Maximum( |(RB-torsion calc)-(CHARMM dihedral calc)| ) =  1.9984014443252818e-15\n",
      "\n",
      "NBFIX_Mixing not used or no mixing used for the non-bonded potentials out\n",
      "self.non_bonded_type = LJ\n",
      "forcefield_dict = {2: 'opls_135_ETO', 6: 'opls_157_ETO', 4: 'opls_154_ETO', 3: 'opls_140_ETO', 5: 'opls_155_ETO', 1: 'o_spce_H2O', 0: 'h_spce_H2O'}\n",
      "******************************\n",
      "\n",
      "The charmm X-plor format psf writer (the write_psf function) is running\n",
      "write_psf: forcefield_selection = {'H2O': '../common/spce.xml', 'ETO': 'oplsaa'}, residues = ['ETO', 'H2O']\n",
      "******************************\n",
      "\n",
      "No urey bradley terms detected\n",
      "RB Torsions detected, will converted to CHARMM Dihedrals\n",
      "bead_to_atom_name_dict = None\n",
      "No urey bradley terms detected\n",
      "RB Torsions detected, will converted to CHARMM Dihedrals\n",
      "bead_to_atom_name_dict = None\n",
      "******************************\n",
      "\n",
      "The charmm pdb writer (the write_pdb function) is running\n",
      "write_charmm_pdb: residues == ['ETO', 'H2O']\n",
      "fix_residue = None\n",
      "fix_residue_in_box = None\n",
      "bead_to_atom_name_dict = None\n",
      "INFORMATION: No atoms are fixed in this pdb file for the GOMC simulation engine. \n",
      "******************************\n",
      "\n",
      "INFO: ensemble_type = GEMC_NVT\n",
      "INFO: All the ensemble (ensemble_type) input passed the intial error checking\n",
      "INFO: All the Temperature  (Temperature) input passed the initial error checking\n",
      "INFO: All the required force field, pdb, and psf files for box 0 (.inp, .pdb, and .psf) all passed the intial error checking. Note: the file names and their existance is not confirmed.\n",
      "INFO: All the input variable passed the intial error checking\n",
      "INFO: The sum of the Monte Carlo move ratios = 1.000000000000\n",
      "INFO: the correct extension for the control file was provided in the file name, .conf with control file name = in_GEMC_NVT.conf\n"
     ]
    },
    {
     "data": {
      "text/plain": [
       "'GOMC_CONTROL_FILE_WRITTEN'"
      ]
     },
     "execution_count": 17,
     "metadata": {},
     "output_type": "execute_result"
    }
   ],
   "source": [
    "charmm.write_inp()\n",
    "\n",
    "charmm.write_psf()\n",
    "\n",
    "charmm.write_pdb()\n",
    "\n",
    "\n",
    "gomc_control.write_gomc_control_file(charmm, 'in_GEMC_NVT.conf', 'GEMC_NVT', 100, 300,\n",
    "                                     input_variables_dict={\"VDWGeometricSigma\": True,\n",
    "                                                           \"Rcut\": 12,\n",
    "                                                           \"RcutCoulomb_box_1\": 20,\n",
    "                                                           \"DisFreq\": 0.20,\n",
    "                                                           \"RotFreq\": 0.20, \n",
    "                                                           \"IntraSwapFreq\": 0.10,\n",
    "                                                           \"SwapFreq\": 0.20,\n",
    "                                                           \"RegrowthFreq\": 0.20,\n",
    "                                                           \"CrankShaftFreq\": 0.09,\n",
    "                                                           \"VolFreq\": 0.00,\n",
    "                                                           \"MultiParticleFreq\": 0.01,\n",
    "                                                           }\n",
    "                                    )"
   ]
  },
  {
   "cell_type": "code",
   "execution_count": null,
   "id": "destroyed-investment",
   "metadata": {},
   "outputs": [],
   "source": []
  },
  {
   "cell_type": "code",
   "execution_count": null,
   "id": "electronic-theme",
   "metadata": {},
   "outputs": [],
   "source": []
  },
  {
   "cell_type": "code",
   "execution_count": null,
   "id": "adjacent-cross",
   "metadata": {},
   "outputs": [],
   "source": []
  }
 ],
 "metadata": {
  "kernelspec": {
   "display_name": "Python 3",
   "language": "python",
   "name": "python3"
  },
  "language_info": {
   "codemirror_mode": {
    "name": "ipython",
    "version": 3
   },
   "file_extension": ".py",
   "mimetype": "text/x-python",
   "name": "python",
   "nbconvert_exporter": "python",
   "pygments_lexer": "ipython3",
   "version": "3.9.1"
  }
 },
 "nbformat": 4,
 "nbformat_minor": 5
}
