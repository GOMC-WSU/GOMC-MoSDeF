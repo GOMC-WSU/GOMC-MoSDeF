{
 "cells": [
  {
   "cell_type": "markdown",
   "id": "optical-evolution",
   "metadata": {},
   "source": [
    "# GOMC Example for the NPT Ensemble via MoSDeF [1, 2, 5-10, 13-17]¶\n"
   ]
  },
  {
   "cell_type": "markdown",
   "id": "working-singer",
   "metadata": {},
   "source": [
    "## Import the required packages and specify the box dimensions, number of molecules, and mol ratios [1, 2, 5-10, 13-17]. "
   ]
  },
  {
   "cell_type": "code",
   "execution_count": 2,
   "id": "structured-depression",
   "metadata": {},
   "outputs": [
    {
     "name": "stderr",
     "output_type": "stream",
     "text": [
      "/Users/brad/Programs/anaconda3/envs/GOMC_MOSDEF/lib/python3.9/site-packages/ipykernel/ipkernel.py:283: DeprecationWarning: `should_run_async` will not call `transform_cell` automatically in the future. Please pass the result to `transformed_cell` argument and any exception that happen during thetransform in `preprocessing_exc_tuple` in IPython 7.17 and above.\n",
      "  and should_run_async(code)\n"
     ]
    }
   ],
   "source": [
    "import mbuild as mb\n",
    "from foyer import Forcefield\n",
    "import mbuild.formats.charmm_writer as mf_charmm\n",
    "import mbuild.formats.gomc_conf_writer as gomc_control\n",
    "\n",
    "Liquid_box_length_Ang = 45\n",
    "Liquid_box_Total_molecules = 850\n",
    "\n",
    "hexane_mol_ratio = 0.5\n",
    "water_mol_ratio = 0.5"
   ]
  },
  {
   "cell_type": "markdown",
   "id": "traditional-vocabulary",
   "metadata": {},
   "source": [
    "# Create the water and hexane molecules with residue names [1, 2, 13-17]¶.  \n",
    "\n",
    "# Generate the list for the molecules, residues, and mol ratios.  Make the dictionaries to customize the bead's atoms names, and set the residues/molecules force fields [1, 2, 13-17].  \n",
    "\n",
    "## Note: For GOMC, the residue names are treated as molecules, so the residue names must be unique for each different molecule [1, 2, 13-17]. The force field (FF) dictionary (forcefield_files variable) can set each residue with a different FF, by the FF name (via the foyer FF repository) or a specified FF xml file [1, 2, 13-17]."
   ]
  },
  {
   "cell_type": "code",
   "execution_count": 3,
   "id": "future-walker",
   "metadata": {},
   "outputs": [
    {
     "name": "stderr",
     "output_type": "stream",
     "text": [
      "/Users/brad/Programs/anaconda3/envs/GOMC_MOSDEF/lib/python3.9/site-packages/ipykernel/ipkernel.py:283: DeprecationWarning: `should_run_async` will not call `transform_cell` automatically in the future. Please pass the result to `transformed_cell` argument and any exception that happen during thetransform in `preprocessing_exc_tuple` in IPython 7.17 and above.\n",
      "  and should_run_async(code)\n",
      "/Users/brad/Programs/anaconda3/envs/GOMC_MOSDEF/lib/python3.9/site-packages/foyer/forcefield.py:472: UserWarning: Non-atomistic element type detected. Creating custom element for _CH4\n",
      "  warnings.warn('Non-atomistic element type detected. '\n",
      "/Users/brad/Programs/anaconda3/envs/GOMC_MOSDEF/lib/python3.9/site-packages/foyer/forcefield.py:472: UserWarning: Non-atomistic element type detected. Creating custom element for _CH3\n",
      "  warnings.warn('Non-atomistic element type detected. '\n",
      "/Users/brad/Programs/anaconda3/envs/GOMC_MOSDEF/lib/python3.9/site-packages/foyer/forcefield.py:472: UserWarning: Non-atomistic element type detected. Creating custom element for _CH2\n",
      "  warnings.warn('Non-atomistic element type detected. '\n",
      "/Users/brad/Programs/anaconda3/envs/GOMC_MOSDEF/lib/python3.9/site-packages/foyer/forcefield.py:472: UserWarning: Non-atomistic element type detected. Creating custom element for _HC\n",
      "  warnings.warn('Non-atomistic element type detected. '\n",
      "/Users/brad/Programs/anaconda3/envs/GOMC_MOSDEF/lib/python3.9/site-packages/foyer/forcefield.py:448: UserWarning: No force field version number found in force field XML file.\n",
      "  warnings.warn(\n",
      "/Users/brad/Programs/anaconda3/envs/GOMC_MOSDEF/lib/python3.9/site-packages/foyer/forcefield.py:460: UserWarning: No force field name found in force field XML file.\n",
      "  warnings.warn(\n",
      "/Users/brad/Programs/anaconda3/envs/GOMC_MOSDEF/lib/python3.9/site-packages/mbuild/compound.py:1642: UserWarning: OpenMM Force CustomNonbondedForce is not currently supported in _energy_minimize_openmm. This Force will not be updated!\n",
      "  warn(\n"
     ]
    }
   ],
   "source": [
    "forcefield_files_hexane = 'trappe-ua'\n",
    "hexane =mb.load('../common/hexane.mol2')\n",
    "hexane.energy_minimize(forcefield = forcefield_files_hexane , steps=10**4)\n",
    "hexane.name = 'HEX'\n",
    "\n",
    "forcefield_files_water = '../common/spce.xml'\n",
    "water = mb.load('O', smiles=True)\n",
    "water.energy_minimize(forcefield = forcefield_files_water , steps=10**4)\n",
    "water.name = 'H2O'\n",
    "\n",
    "Molecule_Type_list = [hexane, water]\n",
    "Molecule_mol_ratio_list = [hexane_mol_ratio, water_mol_ratio]\n",
    "Molecules_of_each_type_Liquid_list = [int(Liquid_box_Total_molecules * hexane_mol_ratio),\n",
    "                                      int(Liquid_box_Total_molecules * water_mol_ratio)]\n",
    "\n",
    "Molecule_ResName_list = [hexane.name, water.name ]\n",
    "\n",
    "Bead_to_atom_name_dict = { '_CH3':'C', '_CH2':'C',  '_CH':'C', '_HC':'C'}\n",
    "\n",
    "forcefield_files = {hexane.name : forcefield_files_hexane , water.name : forcefield_files_water}\n",
    "\n",
    "fixed_bonds_angles_list = [water.name]"
   ]
  },
  {
   "cell_type": "markdown",
   "id": "operational-blackjack",
   "metadata": {},
   "source": [
    "## Build the main liquid simulation box (box 0) for the simulation [1, 2, 13-17]"
   ]
  },
  {
   "cell_type": "code",
   "execution_count": 4,
   "id": "unsigned-inspiration",
   "metadata": {},
   "outputs": [
    {
     "name": "stderr",
     "output_type": "stream",
     "text": [
      "/Users/brad/Programs/anaconda3/envs/GOMC_MOSDEF/lib/python3.9/site-packages/ipykernel/ipkernel.py:283: DeprecationWarning: `should_run_async` will not call `transform_cell` automatically in the future. Please pass the result to `transformed_cell` argument and any exception that happen during thetransform in `preprocessing_exc_tuple` in IPython 7.17 and above.\n",
      "  and should_run_async(code)\n",
      "/Users/brad/Programs/anaconda3/envs/GOMC_MOSDEF/lib/python3.9/site-packages/mbuild/formats/xyz.py:63: UserWarning: No matching element found for _CH; the particle will be added to the compound without an element attribute.\n",
      "  warn(\n"
     ]
    }
   ],
   "source": [
    "box_liq = mb.fill_box(compound=Molecule_Type_list,\n",
    "                      n_compounds=Molecules_of_each_type_Liquid_list,\n",
    "                      box=[Liquid_box_length_Ang/10,\n",
    "                           Liquid_box_length_Ang/10,\n",
    "                           Liquid_box_length_Ang/10])"
   ]
  },
  {
   "cell_type": "markdown",
   "id": "raising-imaging",
   "metadata": {},
   "source": [
    "## Build the Charmm object, which is required to write the FF (.inp), psf, pdb, and GOMC control files [1, 2, 5-10, 13-17]"
   ]
  },
  {
   "cell_type": "code",
   "execution_count": 5,
   "id": "passive-bracket",
   "metadata": {},
   "outputs": [
    {
     "name": "stderr",
     "output_type": "stream",
     "text": [
      "/Users/brad/Programs/anaconda3/envs/GOMC_MOSDEF/lib/python3.9/site-packages/ipykernel/ipkernel.py:283: DeprecationWarning: `should_run_async` will not call `transform_cell` automatically in the future. Please pass the result to `transformed_cell` argument and any exception that happen during thetransform in `preprocessing_exc_tuple` in IPython 7.17 and above.\n",
      "  and should_run_async(code)\n"
     ]
    },
    {
     "name": "stdout",
     "output_type": "stream",
     "text": [
      "write_gomcdata: forcefield_selection = {'HEX': 'trappe-ua', 'H2O': '../common/spce.xml'}, residues = ['HEX', 'H2O']\n",
      "INFORMATION: The following residues will have fixed bonds and angles: gomc_fix_bonds_angles = ['H2O']\n",
      "******************************\n",
      "\n",
      "GOMC FF writing each residues FF as a group for structure_box_0\n",
      "forcefield_selection = {'HEX': 'trappe-ua', 'H2O': '../common/spce.xml'}\n",
      "forcefield type from compound = {'HEX': 'trappe-ua', 'H2O': '../common/spce.xml'}\n",
      "coulomb14scale from compound = {'HEX': 0.0, 'H2O': 0.0}\n",
      "lj14scale from compound = {'HEX': 0.0, 'H2O': 0.0}\n",
      "all_res_unique_atom_name_dict = {'HEX': ['C1', 'C2', 'C3', 'C4', 'C5', 'C6'], 'H2O': ['O1', 'H1', 'H2']}\n"
     ]
    }
   ],
   "source": [
    "charmm = mf_charmm.Charmm(box_liq,\n",
    "                          'NPT_n_hexane_water_liq',\n",
    "                          structure_box_1=None  ,\n",
    "                          filename_box_1=None,\n",
    "                          ff_filename =\"NPT_n_hexane_water_FF\" ,\n",
    "                          forcefield_selection=forcefield_files ,\n",
    "                          residues=Molecule_ResName_list ,\n",
    "                          bead_to_atom_name_dict=Bead_to_atom_name_dict ,\n",
    "                          gomc_fix_bonds_angles=fixed_bonds_angles_list,\n",
    "                         )"
   ]
  },
  {
   "cell_type": "markdown",
   "id": "sorted-possession",
   "metadata": {},
   "source": [
    "## Write the write the FF (.inp), psf, pdb, and GOMC control files [1, 2, 5-10, 13-17]"
   ]
  },
  {
   "cell_type": "code",
   "execution_count": 6,
   "id": "recovered-gossip",
   "metadata": {},
   "outputs": [
    {
     "name": "stderr",
     "output_type": "stream",
     "text": [
      "/Users/brad/Programs/anaconda3/envs/GOMC_MOSDEF/lib/python3.9/site-packages/ipykernel/ipkernel.py:283: DeprecationWarning: `should_run_async` will not call `transform_cell` automatically in the future. Please pass the result to `transformed_cell` argument and any exception that happen during thetransform in `preprocessing_exc_tuple` in IPython 7.17 and above.\n",
      "  and should_run_async(code)\n"
     ]
    },
    {
     "name": "stdout",
     "output_type": "stream",
     "text": [
      "******************************\n",
      "\n",
      "The charmm force field file writer (the write_inp function) is running\n",
      "******************************\n",
      "\n",
      "The charmm force field file writer (the write_inp function) is running\n",
      "******************************\n",
      "\n",
      "writing the GOMC force field file \n",
      "No urey bradley terms detected, will use angle_style harmonic\n",
      "will use CHARMM_torsions  =  K0 + K1 * (1 + Cos[n1*(t) - (d1)] ) + K2 * (1 + Cos[n2*(t) - (d2)] ) + K3 * (1 + Cos[n3*(t) - (d3)] ) + K4 * (1 + Cos[n4*(t) - (d4)] ) + K5 * (1 + Cos[n5*(t) - (d5)] ) \n",
      "! RB-torsion to CHARMM dihedral conversion error is OK [error <= 10^(-10)]\n",
      "! Maximum( |(RB-torsion calc)-(CHARMM dihedral calc)| ) =  1.2878587085651816e-14\n",
      "\n",
      "NBFIX_Mixing not used or no mixing used for the non-bonded potentials out\n",
      "self.non_bonded_type = LJ\n",
      "forcefield_dict = {1: 'CH3_sp3_HEX', 0: 'CH2_sp3_HEX', 3: 'o_spce_H2O', 2: 'h_spce_H2O'}\n",
      "******************************\n",
      "\n",
      "The charmm X-plor format psf writer (the write_psf function) is running\n",
      "write_psf: forcefield_selection = {'HEX': 'trappe-ua', 'H2O': '../common/spce.xml'}, residues = ['HEX', 'H2O']\n",
      "******************************\n",
      "\n",
      "No urey bradley terms detected\n",
      "RB Torsions detected, will converted to CHARMM Dihedrals\n",
      "bead_to_atom_name_dict = {'_CH3': 'C', '_CH2': 'C', '_CH': 'C', '_HC': 'C'}\n",
      "******************************\n",
      "\n",
      "The charmm pdb writer (the write_pdb function) is running\n",
      "write_charmm_pdb: residues == ['HEX', 'H2O']\n",
      "fix_residue = None\n",
      "fix_residue_in_box = None\n",
      "bead_to_atom_name_dict = {'_CH3': 'C', '_CH2': 'C', '_CH': 'C', '_HC': 'C'}\n",
      "INFORMATION: No atoms are fixed in this pdb file for the GOMC simulation engine. \n",
      "******************************\n",
      "\n",
      "INFO: ensemble_type = NPT\n",
      "INFO: All the ensemble (ensemble_type) input passed the intial error checking\n",
      "INFO: All the Temperature  (Temperature) input passed the initial error checking\n",
      "INFO: All the required force field, pdb, and psf files for box 0 and 1 (.inp, .pdb, and .psf) all passed the intial error checking. Note: the file names and their existance is not confirmed.\n",
      "INFO: All the input variable passed the intial error checking\n",
      "INFO: The sum of the Monte Carlo move ratios = 1.000000000000\n",
      "INFO: the correct extension for the control file was provided in the file name, .conf with control file name = in_NPT.conf\n"
     ]
    },
    {
     "data": {
      "text/plain": [
       "'GOMC_CONTROL_FILE_WRITTEN'"
      ]
     },
     "execution_count": 6,
     "metadata": {},
     "output_type": "execute_result"
    }
   ],
   "source": [
    "charmm.write_inp()\n",
    "\n",
    "charmm.write_psf()\n",
    "\n",
    "charmm.write_pdb()\n",
    "\n",
    "\n",
    "gomc_control.write_gomc_control_file(charmm, 'in_NPT.conf',  'NPT', 100, 300,\n",
    "                                     input_variables_dict={\"Pressure\": 10}\n",
    "                                     )\n"
   ]
  },
  {
   "cell_type": "code",
   "execution_count": null,
   "id": "destroyed-investment",
   "metadata": {},
   "outputs": [],
   "source": []
  },
  {
   "cell_type": "code",
   "execution_count": null,
   "id": "electronic-theme",
   "metadata": {},
   "outputs": [],
   "source": []
  }
 ],
 "metadata": {
  "kernelspec": {
   "display_name": "Python 3",
   "language": "python",
   "name": "python3"
  },
  "language_info": {
   "codemirror_mode": {
    "name": "ipython",
    "version": 3
   },
   "file_extension": ".py",
   "mimetype": "text/x-python",
   "name": "python",
   "nbconvert_exporter": "python",
   "pygments_lexer": "ipython3",
   "version": "3.9.1"
  }
 },
 "nbformat": 4,
 "nbformat_minor": 5
}
