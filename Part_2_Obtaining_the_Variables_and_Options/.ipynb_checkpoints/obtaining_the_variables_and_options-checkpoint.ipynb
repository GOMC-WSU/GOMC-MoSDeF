{
 "cells": [
  {
   "cell_type": "markdown",
   "id": "optical-evolution",
   "metadata": {},
   "source": [
    "# Obtaining the Charmm object and GOMC control file parameters via MoSDeF [1, 2, 5-10, 13-17]"
   ]
  },
  {
   "cell_type": "markdown",
   "id": "working-singer",
   "metadata": {},
   "source": [
    "## Import the required packages"
   ]
  },
  {
   "cell_type": "code",
   "execution_count": null,
   "id": "informative-automation",
   "metadata": {},
   "outputs": [],
   "source": [
    "import mbuild.formats.charmm_writer as mf_charmm\n",
    "import mbuild.formats.gomc_conf_writer as gomc_control"
   ]
  },
  {
   "cell_type": "markdown",
   "id": "million-berry",
   "metadata": {},
   "source": [
    "# Obtaining the Charmm object variable parameters, attributes, and functions [5-10, 13-17]"
   ]
  },
  {
   "cell_type": "code",
   "execution_count": null,
   "id": "future-walker",
   "metadata": {},
   "outputs": [],
   "source": [
    "help(mf_charmm.Charmm)"
   ]
  },
  {
   "cell_type": "markdown",
   "id": "operational-blackjack",
   "metadata": {},
   "source": [
    "## Display the required inputs for the GOMC control file writer (write_gomc_control_file function) via the print_required_input function [1, 2, 13-17]\n",
    "\n",
    "### The examples show the required variables in the function. "
   ]
  },
  {
   "cell_type": "code",
   "execution_count": null,
   "id": "unsigned-inspiration",
   "metadata": {
    "scrolled": false
   },
   "outputs": [],
   "source": [
    "# Example ->   gomc_control.write_gomc_control_file(Charmm_object, 'GOMC_control_file_name(.conf)',\n",
    "#                                                   Ensemble_type, No_of_steps, Temp_K)\n",
    "# Example ->   gomc_control.write_gomc_control_file(charmm, 'in_NPT.conf', 'NPT', 10, 300)\n",
    "\n",
    "gomc_control.print_required_input(description=True)"
   ]
  },
  {
   "cell_type": "markdown",
   "id": "raising-imaging",
   "metadata": {},
   "source": [
    "## Display the optional ensemble input variables (input_variables_dict variables) for the GOMC control file writer via the print_valid_ensemble_input_variables function  [1, 2, 13-17].\n",
    "\n",
    "### The NPT ensemble is used for the example below.\n",
    "\n",
    "###  Note: Most input_variables_dict keys are the same as the GOMC Manual commands or may have \"_box_0\" or \"_box_1\" added at the end of the GOMC Manual naming convention  [1, 2]."
   ]
  },
  {
   "cell_type": "code",
   "execution_count": null,
   "id": "passive-bracket",
   "metadata": {},
   "outputs": [],
   "source": [
    "# Example -> gomc_control.write_gomc_control_file(charmm, 'in_NPT.conf', 'NPT', 10, 300,\n",
    "#                                                 input_variables_dict={\"Pressure\": 10,\n",
    "#                                                                       \"DisFreq\": 0.20,\n",
    "#                                                                       \"RotFreq\": 0.20,\n",
    "#                                                                       \"IntraSwapFreq\": 0.20,\n",
    "#                                                                       \"RegrowthFreq\": 0.20,\n",
    "#                                                                       \"CrankShaftFreq\": 0.20,\n",
    "#                                                                       }\n",
    "#                                                )\n",
    "\n",
    "gomc_control.print_valid_ensemble_input_variables('NPT', description=True)"
   ]
  },
  {
   "cell_type": "markdown",
   "id": "wound-state",
   "metadata": {},
   "source": [
    "# Alternatively, we can display both the required and optional ensemble input variables for the GOMC control file writer via the help function  [1, 2, 13-17].\n",
    "\n",
    "### However, this method does not report the ensemble-specific functions.  The user will have to read each variable to acquire this information."
   ]
  },
  {
   "cell_type": "code",
   "execution_count": null,
   "id": "protected-stanley",
   "metadata": {},
   "outputs": [],
   "source": [
    "help(gomc_control.write_gomc_control_file)"
   ]
  },
  {
   "cell_type": "code",
   "execution_count": null,
   "id": "missing-ireland",
   "metadata": {},
   "outputs": [],
   "source": []
  },
  {
   "cell_type": "code",
   "execution_count": null,
   "id": "fd2d98fd",
   "metadata": {},
   "outputs": [],
   "source": []
  },
  {
   "cell_type": "code",
   "execution_count": null,
   "id": "4aced7ae",
   "metadata": {},
   "outputs": [],
   "source": []
  }
 ],
 "metadata": {
  "kernelspec": {
   "display_name": "Python 3 (ipykernel)",
   "language": "python",
   "name": "python3"
  },
  "language_info": {
   "codemirror_mode": {
    "name": "ipython",
    "version": 3
   },
   "file_extension": ".py",
   "mimetype": "text/x-python",
   "name": "python",
   "nbconvert_exporter": "python",
   "pygments_lexer": "ipython3",
   "version": "3.8.12"
  }
 },
 "nbformat": 4,
 "nbformat_minor": 5
}
